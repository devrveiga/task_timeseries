{
 "cells": [
  {
   "cell_type": "code",
   "execution_count": 1,
   "metadata": {},
   "outputs": [],
   "source": [
    "import pandas as pd\n",
    "import numpy as np\n",
    "\n"
   ]
  },
  {
   "cell_type": "code",
   "execution_count": 5,
   "metadata": {},
   "outputs": [
    {
     "name": "stdout",
     "output_type": "stream",
     "text": [
      "Dictionary example:  {'brand': 'Hyundai', 'model': 'Creta', 'type': 'SUV', 'year': '2017'}\n"
     ]
    }
   ],
   "source": [
    "dict_example = {\n",
    "    'brand' : 'Hyundai',\n",
    "    'model' : 'Creta',\n",
    "    'type' : 'SUV',\n",
    "    'year' : '2017'\n",
    "}\n",
    "print('Dictionary example: ', dict_example)"
   ]
  },
  {
   "cell_type": "code",
   "execution_count": 6,
   "metadata": {},
   "outputs": [
    {
     "data": {
      "text/plain": [
       "'Hyundai'"
      ]
     },
     "execution_count": 6,
     "metadata": {},
     "output_type": "execute_result"
    }
   ],
   "source": [
    "dict_example['brand']"
   ]
  },
  {
   "cell_type": "code",
   "execution_count": 7,
   "metadata": {},
   "outputs": [
    {
     "data": {
      "text/plain": [
       "'Hyundai'"
      ]
     },
     "execution_count": 7,
     "metadata": {},
     "output_type": "execute_result"
    }
   ],
   "source": [
    "dict_example.get('brand')"
   ]
  },
  {
   "cell_type": "code",
   "execution_count": 8,
   "metadata": {},
   "outputs": [
    {
     "name": "stdout",
     "output_type": "stream",
     "text": [
      "The DataFrame object before deleting the column\n",
      "   a  b\n",
      "0  1  2\n",
      "1  2  4\n",
      "2  3  6\n"
     ]
    }
   ],
   "source": [
    "import pandas as pd\n",
    "\n",
    "# Create a dataframe from a dict\n",
    "df = pd.DataFrame({\"a\": [1,2,3], \"b\":[2,4,6]})\n",
    "print(\"The DataFrame object before deleting the column\")\n",
    "print(df)\n"
   ]
  },
  {
   "cell_type": "code",
   "execution_count": 9,
   "metadata": {},
   "outputs": [
    {
     "name": "stdout",
     "output_type": "stream",
     "text": [
      "The DataFrame object after deleting the column a\n",
      "   b\n",
      "0  2\n",
      "1  4\n",
      "2  6\n"
     ]
    }
   ],
   "source": [
    "df.drop('a', inplace=True, axis=1)\n",
    "print(\"The DataFrame object after deleting the column a\")\n",
    "print(df)"
   ]
  },
  {
   "cell_type": "code",
   "execution_count": null,
   "metadata": {},
   "outputs": [],
   "source": []
  }
 ],
 "metadata": {
  "kernelspec": {
   "display_name": "Python 3.10.4 64-bit",
   "language": "python",
   "name": "python3"
  },
  "language_info": {
   "codemirror_mode": {
    "name": "ipython",
    "version": 3
   },
   "file_extension": ".py",
   "mimetype": "text/x-python",
   "name": "python",
   "nbconvert_exporter": "python",
   "pygments_lexer": "ipython3",
   "version": "3.10.4"
  },
  "orig_nbformat": 4,
  "vscode": {
   "interpreter": {
    "hash": "37ea985b0ee8ee494857065fe686af5936bdfdc736afafaecdae2172d6256cad"
   }
  }
 },
 "nbformat": 4,
 "nbformat_minor": 2
}
