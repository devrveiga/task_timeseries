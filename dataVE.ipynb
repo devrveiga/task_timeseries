{
 "cells": [
  {
   "cell_type": "markdown",
   "id": "cecc6e92",
   "metadata": {},
   "source": [
    "# Tratamento dos dados raiz (para o  problema de machine Learning)"
   ]
  },
  {
   "cell_type": "markdown",
   "id": "409e040c",
   "metadata": {},
   "source": [
    "1.  Crowd Charge Transactions and GreenFlux Transactions data import. (for ML task we will use only Crowd Charge data)"
   ]
  },
  {
   "cell_type": "code",
   "execution_count": 348,
   "id": "fcf6626e",
   "metadata": {},
   "outputs": [],
   "source": [
    "import numpy as np\n",
    "import pandas as pd\n",
    "from scipy import stats\n",
    "from mlxtend.preprocessing import minmax_scaling\n",
    "import seaborn as sns \n",
    "import matplotlib.pyplot as plt\n",
    "from sklearn.preprocessing import MinMaxScaler   \n",
    "\n",
    "file_path = 'C:/Users/Rodrigo Veiga/OneDrive/Doutorado/TarefasCarol/Artigos/DataSet/dados/CrowdCharge Transactions.xlsx'\n",
    "#file_path2 = 'C:/Users/Rodrigo Veiga/OneDrive/Doutorado/TarefasCarol/Artigos/DataSet/dados/GreenFlux Transactions.xlsx'\n",
    "df = pd.read_excel(file_path)\n",
    "#dfgf = pd.read_excel(file_path2)"
   ]
  },
  {
   "cell_type": "markdown",
   "id": "5186714c",
   "metadata": {},
   "source": [
    "Data visualization (to avoid open excel everytime) "
   ]
  },
  {
   "cell_type": "markdown",
   "id": "471a6eb9",
   "metadata": {},
   "source": [
    "Variable Specifications \n",
    "\n",
    "-   Transaction ID: added in the database to identify each transaction.  Also appears in the meter value data (i.e. to relate meter values to the transaction they relate to).  Transactions with ID beginning 2 are from a group of chargers where the match between charger and participant was unknown (due to errors in installations etc.).\n",
    "\n",
    "-   ChargerID: identification number of the charger used\n",
    "-   Participant ID: EN number for the participant linked to each charger.  Blank where participant ID is not known.\n",
    "-   ParticipantCarkW: the rating of the participant’s vehicle, based on the ‘ChargerInstall’ data provided by DriveElectric\n",
    "-   ParticipantCarkWh: the battery capacity of the participant’s vehicle, based on the ‘ChargerInstall’ data provided by DriveElectric\n",
    "-   StartTime: plug-in time for the transaction, in UTC\n",
    "-   StopTime: un-plug time for the transaction, in UTC.  N.B. these times do not equate to the time when charging started or ended.\n",
    "-   Group ID: the group the charger belonged to for this transaction.  When chargers were not in the smart charging group they were not in a group and so the group ID is shown as NULL.\n",
    "-   Trial: 1, 2 or 3 depending on which part of the trial applied to the group ID (for details of Trial 1, 2 and 3 see the final report).  When chargers were not in the smart charging group the Trial ID is NULL.  N.B. Events which took place during Trial 3 are likely to have been affected by the time of use incentive and so should be analysed separately.\n",
    "\n",
    "-   Adjusted Start Time: Plug-in time in local time (i.e. equal to UTC when GMT applied, and adjusted to local time during British Summer Time).\n",
    "-   Adjusted StopTime: as above, but for unplug time\n",
    "-   PluggedInTime: the length of time the vehicle was plugged in, in minutes\n",
    "-   ConsumedkWh: the energy transferred during the charging event, as recorded by the energy meter within the charger.  All records are included in the data.  Analysis for the Electric Nation report excluded events where less than 0.5kWh or more than 100kWh was consumed.\n",
    "\n",
    "-   PartofManagedGroup: ‘Yes’ if the charger was in a smart charging group for this transaction.  N.B. this doesn’t mean the individual transaction was managed/curtailed.  No were GroupID or Trial is NULL.\n",
    "-   Weekday or Weekend: If the vehicle was plugged in on a Monday – Friday then this shows ‘Weekday’.  If it was plugged in Saturday or Sunday, then Weekend.\n",
    "-   ActiveChargingStart: the time when charging began, calculated using the meter value records (where these were available).  This is shown in local time only.  If it was not possible to calculate the start time (typically because the charger was offline so the meter value records were lost) then ‘NULL’ is shown.\n",
    "-   MaxAmpsDrawnforT: the maximum current drawn for this transaction ID, at any point between the plug-in and plug-out times.\n",
    "-   EndCharge: an estimate of the time when charging ended (as distinct from the time when the vehicle was unplugged).  This was calculated based on the meter value data (looking for sustained reductions in the current being drawn in the absence of demand management).  In some cases it may be inaccurate – this can be checked by calculating an equivalent charge rate and comparing to the rating of the charger.  For example, if ActiveChargingStart was 17:00 and EndCharge was 18:30, but 21kWh of energy was transferred then it’s likely that EndCharge is inaccurate (because it isn’t possible to add 21kWh in 1.5 hours using a 7kW charger).  NULL where is wasn’t possible to calculate this value (typically because meter values weren’t available).\n",
    "\n",
    "-   ChargingDuration: time between ActiveChargingStart and EndCharge (if both values are available) in minutes\n",
    "-   tInactiveStart: the number of minutes between plug-in and ActiveChargingStart.  Used to show whether or not a timer was used.\n",
    "-   tInactiveEnd: the number of minutes between the end of charging and plug-out.  Used to show whether or not the event was hot unplugged.\n",
    "-   UsedATimer: “Yes” where t active start is at least 30 minutes.  ‘No’ if t inactive start is less than 30 minutes.  NULL (unknown) if t inactive start is NULL.\n",
    "-   BeganInWeekdayEveningPeak: NULL if ActiveChargingStart is NULL (time when charging began is unknown). ‘Yes’ if charging began between 16:00 and 19:59 on a weekday (Monday – Friday), otherwise ‘No’.\n",
    "-   Hot Unplug:  Further details of the reasoning behind this logic is provided in Section 8.8 of the Final Customer Trial Report.\n",
    "NULL if ActiveChargingStart is NULL.\n",
    "‘No’ if t inactive end is greater than 15 minutes\n",
    "‘Yes’ if ‘Used a Timer’ is ‘No’ and t inactive end is less than 15 minutes.\n",
    "‘May be departure time’ if t inactive end is less than 15 minutes and ‘Used a Timer’ is ‘Yes’.\n",
    "-   T1 Managed:\n",
    "NULL if Trial is not 1 (i.e. this value is only populated for Trial 1)\n",
    "‘Yes’ if the transaction was constrained at some point during charging\n",
    "‘No’ if it was not.  Transactions which took place when the charger was offline (where meter values are not available so quantities such as ActiveChargingStart are NULL) were not managed, so these are shown as ‘No’.\n",
    "-   T2 Managed (N.B. all Trial 3 were effectively ‘managed’ because of the CrowdCharge algorithm used alongside the ToU tariff, therefore there are no T3 Managed columns): \n",
    "NULL if Trial is not 2 (i.e. this value is only populated for Trial 2)\n",
    "‘Yes’ if the transaction was constrained at some point during charging\n",
    "‘No’ if it was not.  Transactions which took place when the charger was offline (where meter values are not available so quantities such as ActiveChargingStart are NULL) were not managed, so these are shown as ‘No’.\n",
    "-   Restriction T1: calculated using the methodology set out in Section 10.1.4 of the Final Customer Trial Report:\n",
    "Blank if the transaction did not occur in Trial 1, or it fails any of the criteria set out on Page 238 to 239 of the final report.\n",
    "Otherwise, equal to 1 – (Theoretical Minimum Charging Time/ Actual Charging Time)\n",
    "-   Restriction T2: calculated using the methodology set out in Section 10.1.4 of the Final Customer Trial Report:\n",
    "Blank if the transaction did not occur in Trial 2, or it fails any of the criteria set out on Page 238 to 239 of the final report.\n",
    "Otherwise, equal to 1 – (Theoretical Minimum Charging Time/ Actual Charging Time)"
   ]
  },
  {
   "cell_type": "code",
   "execution_count": 349,
   "id": "a6f63d1f",
   "metadata": {},
   "outputs": [
    {
     "data": {
      "text/html": [
       "<div>\n",
       "<style scoped>\n",
       "    .dataframe tbody tr th:only-of-type {\n",
       "        vertical-align: middle;\n",
       "    }\n",
       "\n",
       "    .dataframe tbody tr th {\n",
       "        vertical-align: top;\n",
       "    }\n",
       "\n",
       "    .dataframe thead th {\n",
       "        text-align: right;\n",
       "    }\n",
       "</style>\n",
       "<table border=\"1\" class=\"dataframe\">\n",
       "  <thead>\n",
       "    <tr style=\"text-align: right;\">\n",
       "      <th></th>\n",
       "      <th>TransactionID</th>\n",
       "      <th>ChargerID</th>\n",
       "      <th>ParticipantID</th>\n",
       "      <th>CarKW</th>\n",
       "      <th>CarKWh</th>\n",
       "      <th>StartTime</th>\n",
       "      <th>StopTime</th>\n",
       "      <th>Trial</th>\n",
       "      <th>AdjustedStartTime</th>\n",
       "      <th>AdjustedStopTime</th>\n",
       "      <th>PluggedInTime</th>\n",
       "      <th>ConsumedkWh</th>\n",
       "      <th>Weekday_or_Weekend</th>\n",
       "      <th>Max_Current_Drawn_for_T</th>\n",
       "      <th>EndCharge</th>\n",
       "      <th>ChargingDuration</th>\n",
       "      <th>t_inactive_start</th>\n",
       "      <th>t_inactive_end</th>\n",
       "      <th>Used_a_Timer</th>\n",
       "      <th>Hot_Unplug</th>\n",
       "    </tr>\n",
       "  </thead>\n",
       "  <tbody>\n",
       "    <tr>\n",
       "      <th>0</th>\n",
       "      <td>100000</td>\n",
       "      <td>36002417</td>\n",
       "      <td>EN1012</td>\n",
       "      <td>7.0</td>\n",
       "      <td>24.0</td>\n",
       "      <td>2017-03-08 17:50:00</td>\n",
       "      <td>2017-03-08 20:54:00</td>\n",
       "      <td>NaN</td>\n",
       "      <td>2017-03-08 17:50:00</td>\n",
       "      <td>2017-03-08 20:54:00</td>\n",
       "      <td>184</td>\n",
       "      <td>13.74</td>\n",
       "      <td>Weekday</td>\n",
       "      <td>NaN</td>\n",
       "      <td>NaT</td>\n",
       "      <td>NaN</td>\n",
       "      <td>NaN</td>\n",
       "      <td>NaN</td>\n",
       "      <td>NaN</td>\n",
       "      <td>NaN</td>\n",
       "    </tr>\n",
       "  </tbody>\n",
       "</table>\n",
       "</div>"
      ],
      "text/plain": [
       "   TransactionID  ChargerID ParticipantID  CarKW  CarKWh           StartTime  \\\n",
       "0         100000   36002417        EN1012    7.0    24.0 2017-03-08 17:50:00   \n",
       "\n",
       "             StopTime  Trial   AdjustedStartTime    AdjustedStopTime  \\\n",
       "0 2017-03-08 20:54:00    NaN 2017-03-08 17:50:00 2017-03-08 20:54:00   \n",
       "\n",
       "   PluggedInTime  ConsumedkWh Weekday_or_Weekend Max_Current_Drawn_for_T  \\\n",
       "0            184        13.74            Weekday                     NaN   \n",
       "\n",
       "  EndCharge  ChargingDuration  t_inactive_start  t_inactive_end Used_a_Timer  \\\n",
       "0       NaT               NaN               NaN             NaN          NaN   \n",
       "\n",
       "  Hot_Unplug  \n",
       "0        NaN  "
      ]
     },
     "execution_count": 349,
     "metadata": {},
     "output_type": "execute_result"
    }
   ],
   "source": [
    "df.head(1)"
   ]
  },
  {
   "cell_type": "markdown",
   "id": "4787afe5",
   "metadata": {},
   "source": [
    "Get the number of missing data points per column "
   ]
  },
  {
   "cell_type": "code",
   "execution_count": 350,
   "id": "469dcb65",
   "metadata": {},
   "outputs": [],
   "source": [
    "missing_values_count_df = df.isnull().sum()\n"
   ]
  },
  {
   "cell_type": "code",
   "execution_count": 351,
   "id": "c9e75a5c",
   "metadata": {},
   "outputs": [
    {
     "data": {
      "text/plain": [
       "TransactionID                  0\n",
       "ChargerID                      0\n",
       "ParticipantID               3899\n",
       "CarKW                       3899\n",
       "CarKWh                      3899\n",
       "StartTime                      0\n",
       "StopTime                       0\n",
       "Trial                      24034\n",
       "AdjustedStartTime              0\n",
       "AdjustedStopTime               0\n",
       "PluggedInTime                  0\n",
       "ConsumedkWh                    1\n",
       "Weekday_or_Weekend             0\n",
       "Max_Current_Drawn_for_T    35520\n",
       "EndCharge                  20855\n",
       "ChargingDuration           20861\n",
       "t_inactive_start           19707\n",
       "t_inactive_end             20855\n",
       "Used_a_Timer               19707\n",
       "Hot_Unplug                 19839\n",
       "dtype: int64"
      ]
     },
     "execution_count": 351,
     "metadata": {},
     "output_type": "execute_result"
    }
   ],
   "source": [
    "missing_values_count_df[0:20]\n"
   ]
  },
  {
   "cell_type": "markdown",
   "id": "f27e3195",
   "metadata": {},
   "source": [
    "How many total missing values we have?"
   ]
  },
  {
   "cell_type": "code",
   "execution_count": 352,
   "id": "4335e569",
   "metadata": {},
   "outputs": [],
   "source": [
    "total_cells = np.product(df.shape)\n",
    "total_missing = missing_values_count_df.sum()"
   ]
  },
  {
   "cell_type": "markdown",
   "id": "000f09e6",
   "metadata": {},
   "source": [
    "Percent of data that is missing "
   ]
  },
  {
   "cell_type": "code",
   "execution_count": 353,
   "id": "e6f89ca7",
   "metadata": {},
   "outputs": [
    {
     "name": "stdout",
     "output_type": "stream",
     "text": [
      "13.546531207903008\n"
     ]
    }
   ],
   "source": [
    "percent_missing = (total_missing/total_cells) * 100\n",
    "print(percent_missing)"
   ]
  },
  {
   "cell_type": "markdown",
   "id": "5daebc8e",
   "metadata": {},
   "source": [
    "13,54% data is missing. Is this value missing because it wasn't recorded or because it doesn't exist? If the value doesn't exist its not possibly to guess about it. On the other hand, if a value is missing because it wasn't recorded, then we have to guess it using the other values in that column and row. (IMPUTATION)"
   ]
  },
  {
   "cell_type": "markdown",
   "id": "7dbb934f",
   "metadata": {},
   "source": [
    "I'm hurry and we have only 13,54 of missing data. An option I have is to just remove rows or columns that contain missing values. \n",
    "Below removing all the rows that contain a missing value"
   ]
  },
  {
   "cell_type": "code",
   "execution_count": 354,
   "id": "81c35d63",
   "metadata": {},
   "outputs": [
    {
     "data": {
      "text/plain": [
       "(35744, 20)"
      ]
     },
     "execution_count": 354,
     "metadata": {},
     "output_type": "execute_result"
    }
   ],
   "source": [
    "df.shape\n",
    "df.dropna().shape"
   ]
  },
  {
   "cell_type": "code",
   "execution_count": 355,
   "id": "02ef18aa",
   "metadata": {},
   "outputs": [
    {
     "name": "stdout",
     "output_type": "stream",
     "text": [
      "Percentage of cells deleted was 49.84283789851819%\n"
     ]
    }
   ],
   "source": [
    "tamanhodatanotfiltered = np.product(df.shape)\n",
    "tamanhofiltered = np.product(df.dropna().shape)\n",
    "print(f'Percentage of cells deleted was {100*(1 - tamanhofiltered/tamanhodatanotfiltered)}%')"
   ]
  },
  {
   "cell_type": "markdown",
   "id": "0cb14029",
   "metadata": {},
   "source": [
    "Removing objectis with at least one null values"
   ]
  },
  {
   "cell_type": "code",
   "execution_count": 356,
   "id": "6b0a81d2",
   "metadata": {},
   "outputs": [
    {
     "data": {
      "text/html": [
       "<div>\n",
       "<style scoped>\n",
       "    .dataframe tbody tr th:only-of-type {\n",
       "        vertical-align: middle;\n",
       "    }\n",
       "\n",
       "    .dataframe tbody tr th {\n",
       "        vertical-align: top;\n",
       "    }\n",
       "\n",
       "    .dataframe thead th {\n",
       "        text-align: right;\n",
       "    }\n",
       "</style>\n",
       "<table border=\"1\" class=\"dataframe\">\n",
       "  <thead>\n",
       "    <tr style=\"text-align: right;\">\n",
       "      <th></th>\n",
       "      <th>TransactionID</th>\n",
       "      <th>ChargerID</th>\n",
       "      <th>ParticipantID</th>\n",
       "      <th>CarKW</th>\n",
       "      <th>CarKWh</th>\n",
       "      <th>StartTime</th>\n",
       "      <th>StopTime</th>\n",
       "      <th>Trial</th>\n",
       "      <th>AdjustedStartTime</th>\n",
       "      <th>AdjustedStopTime</th>\n",
       "      <th>PluggedInTime</th>\n",
       "      <th>ConsumedkWh</th>\n",
       "      <th>Weekday_or_Weekend</th>\n",
       "      <th>Max_Current_Drawn_for_T</th>\n",
       "      <th>EndCharge</th>\n",
       "      <th>ChargingDuration</th>\n",
       "      <th>t_inactive_start</th>\n",
       "      <th>t_inactive_end</th>\n",
       "      <th>Used_a_Timer</th>\n",
       "      <th>Hot_Unplug</th>\n",
       "    </tr>\n",
       "  </thead>\n",
       "  <tbody>\n",
       "    <tr>\n",
       "      <th>13</th>\n",
       "      <td>100013</td>\n",
       "      <td>36002417</td>\n",
       "      <td>EN1012</td>\n",
       "      <td>7.0</td>\n",
       "      <td>24.0</td>\n",
       "      <td>2017-09-04 17:29:00</td>\n",
       "      <td>2017-09-04 20:09:00</td>\n",
       "      <td>1.0</td>\n",
       "      <td>2017-09-04 18:29:00</td>\n",
       "      <td>2017-09-04 21:09:00</td>\n",
       "      <td>160</td>\n",
       "      <td>14.41</td>\n",
       "      <td>Weekday</td>\n",
       "      <td>1900-01-28 07:12:00</td>\n",
       "      <td>2017-09-04 21:05:00</td>\n",
       "      <td>155.0</td>\n",
       "      <td>1.0</td>\n",
       "      <td>4.0</td>\n",
       "      <td>No</td>\n",
       "      <td>Yes</td>\n",
       "    </tr>\n",
       "    <tr>\n",
       "      <th>14</th>\n",
       "      <td>100014</td>\n",
       "      <td>36002417</td>\n",
       "      <td>EN1012</td>\n",
       "      <td>7.0</td>\n",
       "      <td>24.0</td>\n",
       "      <td>2017-09-05 21:07:00</td>\n",
       "      <td>2017-09-06 07:06:00</td>\n",
       "      <td>1.0</td>\n",
       "      <td>2017-09-05 22:07:00</td>\n",
       "      <td>2017-09-06 08:06:00</td>\n",
       "      <td>599</td>\n",
       "      <td>20.97</td>\n",
       "      <td>Weekday</td>\n",
       "      <td>1900-01-27 20:38:24</td>\n",
       "      <td>2017-09-06 01:29:00</td>\n",
       "      <td>201.0</td>\n",
       "      <td>1.0</td>\n",
       "      <td>397.0</td>\n",
       "      <td>No</td>\n",
       "      <td>No</td>\n",
       "    </tr>\n",
       "    <tr>\n",
       "      <th>15</th>\n",
       "      <td>100015</td>\n",
       "      <td>36002417</td>\n",
       "      <td>EN1012</td>\n",
       "      <td>7.0</td>\n",
       "      <td>24.0</td>\n",
       "      <td>2017-09-06 21:40:00</td>\n",
       "      <td>2017-09-07 06:38:00</td>\n",
       "      <td>1.0</td>\n",
       "      <td>2017-09-06 22:40:00</td>\n",
       "      <td>2017-09-07 07:38:00</td>\n",
       "      <td>538</td>\n",
       "      <td>13.99</td>\n",
       "      <td>Weekday</td>\n",
       "      <td>1900-01-27 14:24:00</td>\n",
       "      <td>2017-09-07 01:08:00</td>\n",
       "      <td>147.0</td>\n",
       "      <td>1.0</td>\n",
       "      <td>390.0</td>\n",
       "      <td>No</td>\n",
       "      <td>No</td>\n",
       "    </tr>\n",
       "    <tr>\n",
       "      <th>16</th>\n",
       "      <td>100016</td>\n",
       "      <td>36002417</td>\n",
       "      <td>EN1012</td>\n",
       "      <td>7.0</td>\n",
       "      <td>24.0</td>\n",
       "      <td>2017-09-17 16:02:00</td>\n",
       "      <td>2017-09-18 06:56:00</td>\n",
       "      <td>1.0</td>\n",
       "      <td>2017-09-17 17:02:00</td>\n",
       "      <td>2017-09-18 07:56:00</td>\n",
       "      <td>894</td>\n",
       "      <td>15.60</td>\n",
       "      <td>Weekend</td>\n",
       "      <td>1900-01-28 14:24:00</td>\n",
       "      <td>2017-09-17 19:40:00</td>\n",
       "      <td>157.0</td>\n",
       "      <td>1.0</td>\n",
       "      <td>736.0</td>\n",
       "      <td>No</td>\n",
       "      <td>No</td>\n",
       "    </tr>\n",
       "    <tr>\n",
       "      <th>17</th>\n",
       "      <td>100017</td>\n",
       "      <td>36002417</td>\n",
       "      <td>EN1012</td>\n",
       "      <td>7.0</td>\n",
       "      <td>24.0</td>\n",
       "      <td>2017-09-26 21:01:00</td>\n",
       "      <td>2017-09-27 06:31:00</td>\n",
       "      <td>1.0</td>\n",
       "      <td>2017-09-26 22:01:00</td>\n",
       "      <td>2017-09-27 07:31:00</td>\n",
       "      <td>570</td>\n",
       "      <td>15.86</td>\n",
       "      <td>Weekday</td>\n",
       "      <td>1900-01-27 20:52:48</td>\n",
       "      <td>2017-09-27 00:50:00</td>\n",
       "      <td>168.0</td>\n",
       "      <td>1.0</td>\n",
       "      <td>401.0</td>\n",
       "      <td>No</td>\n",
       "      <td>No</td>\n",
       "    </tr>\n",
       "  </tbody>\n",
       "</table>\n",
       "</div>"
      ],
      "text/plain": [
       "    TransactionID  ChargerID ParticipantID  CarKW  CarKWh           StartTime  \\\n",
       "13         100013   36002417        EN1012    7.0    24.0 2017-09-04 17:29:00   \n",
       "14         100014   36002417        EN1012    7.0    24.0 2017-09-05 21:07:00   \n",
       "15         100015   36002417        EN1012    7.0    24.0 2017-09-06 21:40:00   \n",
       "16         100016   36002417        EN1012    7.0    24.0 2017-09-17 16:02:00   \n",
       "17         100017   36002417        EN1012    7.0    24.0 2017-09-26 21:01:00   \n",
       "\n",
       "              StopTime  Trial   AdjustedStartTime    AdjustedStopTime  \\\n",
       "13 2017-09-04 20:09:00    1.0 2017-09-04 18:29:00 2017-09-04 21:09:00   \n",
       "14 2017-09-06 07:06:00    1.0 2017-09-05 22:07:00 2017-09-06 08:06:00   \n",
       "15 2017-09-07 06:38:00    1.0 2017-09-06 22:40:00 2017-09-07 07:38:00   \n",
       "16 2017-09-18 06:56:00    1.0 2017-09-17 17:02:00 2017-09-18 07:56:00   \n",
       "17 2017-09-27 06:31:00    1.0 2017-09-26 22:01:00 2017-09-27 07:31:00   \n",
       "\n",
       "    PluggedInTime  ConsumedkWh Weekday_or_Weekend Max_Current_Drawn_for_T  \\\n",
       "13            160        14.41            Weekday     1900-01-28 07:12:00   \n",
       "14            599        20.97            Weekday     1900-01-27 20:38:24   \n",
       "15            538        13.99            Weekday     1900-01-27 14:24:00   \n",
       "16            894        15.60            Weekend     1900-01-28 14:24:00   \n",
       "17            570        15.86            Weekday     1900-01-27 20:52:48   \n",
       "\n",
       "             EndCharge  ChargingDuration  t_inactive_start  t_inactive_end  \\\n",
       "13 2017-09-04 21:05:00             155.0               1.0             4.0   \n",
       "14 2017-09-06 01:29:00             201.0               1.0           397.0   \n",
       "15 2017-09-07 01:08:00             147.0               1.0           390.0   \n",
       "16 2017-09-17 19:40:00             157.0               1.0           736.0   \n",
       "17 2017-09-27 00:50:00             168.0               1.0           401.0   \n",
       "\n",
       "   Used_a_Timer Hot_Unplug  \n",
       "13           No        Yes  \n",
       "14           No         No  \n",
       "15           No         No  \n",
       "16           No         No  \n",
       "17           No         No  "
      ]
     },
     "execution_count": 356,
     "metadata": {},
     "output_type": "execute_result"
    }
   ],
   "source": [
    "df = df.dropna()\n",
    "df.head(5)"
   ]
  },
  {
   "cell_type": "markdown",
   "id": "32a922e7",
   "metadata": {},
   "source": [
    "Removing some columns "
   ]
  },
  {
   "cell_type": "code",
   "execution_count": 357,
   "id": "55085861",
   "metadata": {},
   "outputs": [],
   "source": [
    "df.drop(labels = ['TransactionID', 'ChargerID', 'ParticipantID','AdjustedStartTime', 'AdjustedStopTime', 'Max_Current_Drawn_for_T', 't_inactive_start', 't_inactive_end', 'Used_a_Timer','Hot_Unplug' ], inplace = True, axis = 1)"
   ]
  },
  {
   "cell_type": "code",
   "execution_count": 358,
   "id": "6e6aeff6",
   "metadata": {},
   "outputs": [
    {
     "data": {
      "text/html": [
       "<div>\n",
       "<style scoped>\n",
       "    .dataframe tbody tr th:only-of-type {\n",
       "        vertical-align: middle;\n",
       "    }\n",
       "\n",
       "    .dataframe tbody tr th {\n",
       "        vertical-align: top;\n",
       "    }\n",
       "\n",
       "    .dataframe thead th {\n",
       "        text-align: right;\n",
       "    }\n",
       "</style>\n",
       "<table border=\"1\" class=\"dataframe\">\n",
       "  <thead>\n",
       "    <tr style=\"text-align: right;\">\n",
       "      <th></th>\n",
       "      <th>CarKW</th>\n",
       "      <th>CarKWh</th>\n",
       "      <th>StartTime</th>\n",
       "      <th>StopTime</th>\n",
       "      <th>Trial</th>\n",
       "      <th>PluggedInTime</th>\n",
       "      <th>ConsumedkWh</th>\n",
       "      <th>Weekday_or_Weekend</th>\n",
       "      <th>EndCharge</th>\n",
       "      <th>ChargingDuration</th>\n",
       "    </tr>\n",
       "  </thead>\n",
       "  <tbody>\n",
       "    <tr>\n",
       "      <th>0</th>\n",
       "      <td>7.0</td>\n",
       "      <td>24.0</td>\n",
       "      <td>2017-09-04 17:29:00</td>\n",
       "      <td>2017-09-04 20:09:00</td>\n",
       "      <td>1.0</td>\n",
       "      <td>160</td>\n",
       "      <td>14.41</td>\n",
       "      <td>Weekday</td>\n",
       "      <td>2017-09-04 21:05:00</td>\n",
       "      <td>155.0</td>\n",
       "    </tr>\n",
       "    <tr>\n",
       "      <th>1</th>\n",
       "      <td>7.0</td>\n",
       "      <td>24.0</td>\n",
       "      <td>2017-09-05 21:07:00</td>\n",
       "      <td>2017-09-06 07:06:00</td>\n",
       "      <td>1.0</td>\n",
       "      <td>599</td>\n",
       "      <td>20.97</td>\n",
       "      <td>Weekday</td>\n",
       "      <td>2017-09-06 01:29:00</td>\n",
       "      <td>201.0</td>\n",
       "    </tr>\n",
       "    <tr>\n",
       "      <th>2</th>\n",
       "      <td>7.0</td>\n",
       "      <td>24.0</td>\n",
       "      <td>2017-09-06 21:40:00</td>\n",
       "      <td>2017-09-07 06:38:00</td>\n",
       "      <td>1.0</td>\n",
       "      <td>538</td>\n",
       "      <td>13.99</td>\n",
       "      <td>Weekday</td>\n",
       "      <td>2017-09-07 01:08:00</td>\n",
       "      <td>147.0</td>\n",
       "    </tr>\n",
       "    <tr>\n",
       "      <th>3</th>\n",
       "      <td>7.0</td>\n",
       "      <td>24.0</td>\n",
       "      <td>2017-09-17 16:02:00</td>\n",
       "      <td>2017-09-18 06:56:00</td>\n",
       "      <td>1.0</td>\n",
       "      <td>894</td>\n",
       "      <td>15.60</td>\n",
       "      <td>Weekend</td>\n",
       "      <td>2017-09-17 19:40:00</td>\n",
       "      <td>157.0</td>\n",
       "    </tr>\n",
       "    <tr>\n",
       "      <th>4</th>\n",
       "      <td>7.0</td>\n",
       "      <td>24.0</td>\n",
       "      <td>2017-09-26 21:01:00</td>\n",
       "      <td>2017-09-27 06:31:00</td>\n",
       "      <td>1.0</td>\n",
       "      <td>570</td>\n",
       "      <td>15.86</td>\n",
       "      <td>Weekday</td>\n",
       "      <td>2017-09-27 00:50:00</td>\n",
       "      <td>168.0</td>\n",
       "    </tr>\n",
       "  </tbody>\n",
       "</table>\n",
       "</div>"
      ],
      "text/plain": [
       "   CarKW  CarKWh           StartTime            StopTime  Trial  \\\n",
       "0    7.0    24.0 2017-09-04 17:29:00 2017-09-04 20:09:00    1.0   \n",
       "1    7.0    24.0 2017-09-05 21:07:00 2017-09-06 07:06:00    1.0   \n",
       "2    7.0    24.0 2017-09-06 21:40:00 2017-09-07 06:38:00    1.0   \n",
       "3    7.0    24.0 2017-09-17 16:02:00 2017-09-18 06:56:00    1.0   \n",
       "4    7.0    24.0 2017-09-26 21:01:00 2017-09-27 06:31:00    1.0   \n",
       "\n",
       "   PluggedInTime  ConsumedkWh Weekday_or_Weekend           EndCharge  \\\n",
       "0            160        14.41            Weekday 2017-09-04 21:05:00   \n",
       "1            599        20.97            Weekday 2017-09-06 01:29:00   \n",
       "2            538        13.99            Weekday 2017-09-07 01:08:00   \n",
       "3            894        15.60            Weekend 2017-09-17 19:40:00   \n",
       "4            570        15.86            Weekday 2017-09-27 00:50:00   \n",
       "\n",
       "   ChargingDuration  \n",
       "0             155.0  \n",
       "1             201.0  \n",
       "2             147.0  \n",
       "3             157.0  \n",
       "4             168.0  "
      ]
     },
     "execution_count": 358,
     "metadata": {},
     "output_type": "execute_result"
    }
   ],
   "source": [
    "df.reset_index(drop = True, inplace = True)\n",
    "df.head()\n"
   ]
  },
  {
   "cell_type": "markdown",
   "id": "9be88c17",
   "metadata": {},
   "source": [
    "All rows with null cells deleted from both Crowd Charge and GreenFlux Transactions Data"
   ]
  },
  {
   "cell_type": "markdown",
   "id": "bdd62fc7",
   "metadata": {},
   "source": [
    "2. Data Transforming\n",
    "\n",
    "Variáveis no formato datetime que serão tratadas\n",
    "1 -> StartTime\n",
    "2 -> StopTime\n",
    "3 -> AdjustedStartTime\n",
    "4 -> AdjustedStopTime"
   ]
  },
  {
   "cell_type": "code",
   "execution_count": 359,
   "id": "1a895cfa",
   "metadata": {},
   "outputs": [],
   "source": [
    "newdf = df "
   ]
  },
  {
   "cell_type": "code",
   "execution_count": 360,
   "id": "5bd45181",
   "metadata": {},
   "outputs": [],
   "source": [
    "StartTime = df.StartTime\n",
    "StopTime = df.StopTime\n",
    "EndCharge = df.EndCharge\n",
    "Weekday_or_Weekend = df.Weekday_or_Weekend\n"
   ]
  },
  {
   "cell_type": "code",
   "execution_count": 361,
   "id": "ec289482",
   "metadata": {},
   "outputs": [],
   "source": [
    "StartTime2float = []\n",
    "StopTime2float = []\n",
    "EndCharge2float = []\n",
    "Weekday_ornot = []"
   ]
  },
  {
   "cell_type": "code",
   "execution_count": 362,
   "id": "fdb7db91",
   "metadata": {},
   "outputs": [],
   "source": [
    "for i in range(len(StartTime)):\n",
    "    \n",
    "    StartTime2float =  np.append(StartTime2float,StartTime[i].hour + (StartTime[i].minute)/60)\n",
    "    \n",
    "    StopTime2float = np.append(StopTime2float, StopTime[i].hour + (StopTime[i].minute)/60 )\n",
    "    \n",
    "    EndCharge2float = np.append(EndCharge2float, EndCharge[i].hour + (EndCharge[i].minute)/60)\n",
    "\n",
    "    if Weekday_or_Weekend[i] == 'Weekday':\n",
    "        Weekday_ornot = np.append(Weekday_ornot, 1)\n",
    "    else:\n",
    "        Weekday_ornot = np.append(Weekday_ornot, 0)\n"
   ]
  },
  {
   "cell_type": "markdown",
   "id": "a8c606b2",
   "metadata": {},
   "source": [
    "Plot das Variáveis datetime no formato de histograma. O objetivo aqui é determinar a função densidade de probabilidade que melhor representa cada uma das variáveis."
   ]
  },
  {
   "cell_type": "code",
   "execution_count": 363,
   "id": "5c4b392c",
   "metadata": {},
   "outputs": [],
   "source": [
    "df['StartTime'] = pd.Series(StartTime2float)\n",
    "df['StopTime'] = pd.Series(StopTime2float)\n",
    "df['EndCharge'] = pd.Series(EndCharge2float)\n",
    "df['Weekday_or_Weekend'] = pd.Series(Weekday_ornot)"
   ]
  },
  {
   "cell_type": "code",
   "execution_count": 364,
   "id": "4e98d7c2",
   "metadata": {},
   "outputs": [
    {
     "data": {
      "text/html": [
       "<div>\n",
       "<style scoped>\n",
       "    .dataframe tbody tr th:only-of-type {\n",
       "        vertical-align: middle;\n",
       "    }\n",
       "\n",
       "    .dataframe tbody tr th {\n",
       "        vertical-align: top;\n",
       "    }\n",
       "\n",
       "    .dataframe thead th {\n",
       "        text-align: right;\n",
       "    }\n",
       "</style>\n",
       "<table border=\"1\" class=\"dataframe\">\n",
       "  <thead>\n",
       "    <tr style=\"text-align: right;\">\n",
       "      <th></th>\n",
       "      <th>CarKW</th>\n",
       "      <th>CarKWh</th>\n",
       "      <th>StartTime</th>\n",
       "      <th>StopTime</th>\n",
       "      <th>Trial</th>\n",
       "      <th>PluggedInTime</th>\n",
       "      <th>ConsumedkWh</th>\n",
       "      <th>Weekday_or_Weekend</th>\n",
       "      <th>EndCharge</th>\n",
       "      <th>ChargingDuration</th>\n",
       "    </tr>\n",
       "  </thead>\n",
       "  <tbody>\n",
       "    <tr>\n",
       "      <th>0</th>\n",
       "      <td>7.0</td>\n",
       "      <td>24.0</td>\n",
       "      <td>17.483333</td>\n",
       "      <td>20.150000</td>\n",
       "      <td>1.0</td>\n",
       "      <td>160</td>\n",
       "      <td>14.41</td>\n",
       "      <td>1.0</td>\n",
       "      <td>21.083333</td>\n",
       "      <td>155.0</td>\n",
       "    </tr>\n",
       "    <tr>\n",
       "      <th>1</th>\n",
       "      <td>7.0</td>\n",
       "      <td>24.0</td>\n",
       "      <td>21.116667</td>\n",
       "      <td>7.100000</td>\n",
       "      <td>1.0</td>\n",
       "      <td>599</td>\n",
       "      <td>20.97</td>\n",
       "      <td>1.0</td>\n",
       "      <td>1.483333</td>\n",
       "      <td>201.0</td>\n",
       "    </tr>\n",
       "    <tr>\n",
       "      <th>2</th>\n",
       "      <td>7.0</td>\n",
       "      <td>24.0</td>\n",
       "      <td>21.666667</td>\n",
       "      <td>6.633333</td>\n",
       "      <td>1.0</td>\n",
       "      <td>538</td>\n",
       "      <td>13.99</td>\n",
       "      <td>1.0</td>\n",
       "      <td>1.133333</td>\n",
       "      <td>147.0</td>\n",
       "    </tr>\n",
       "    <tr>\n",
       "      <th>3</th>\n",
       "      <td>7.0</td>\n",
       "      <td>24.0</td>\n",
       "      <td>16.033333</td>\n",
       "      <td>6.933333</td>\n",
       "      <td>1.0</td>\n",
       "      <td>894</td>\n",
       "      <td>15.60</td>\n",
       "      <td>0.0</td>\n",
       "      <td>19.666667</td>\n",
       "      <td>157.0</td>\n",
       "    </tr>\n",
       "    <tr>\n",
       "      <th>4</th>\n",
       "      <td>7.0</td>\n",
       "      <td>24.0</td>\n",
       "      <td>21.016667</td>\n",
       "      <td>6.516667</td>\n",
       "      <td>1.0</td>\n",
       "      <td>570</td>\n",
       "      <td>15.86</td>\n",
       "      <td>1.0</td>\n",
       "      <td>0.833333</td>\n",
       "      <td>168.0</td>\n",
       "    </tr>\n",
       "  </tbody>\n",
       "</table>\n",
       "</div>"
      ],
      "text/plain": [
       "   CarKW  CarKWh  StartTime   StopTime  Trial  PluggedInTime  ConsumedkWh  \\\n",
       "0    7.0    24.0  17.483333  20.150000    1.0            160        14.41   \n",
       "1    7.0    24.0  21.116667   7.100000    1.0            599        20.97   \n",
       "2    7.0    24.0  21.666667   6.633333    1.0            538        13.99   \n",
       "3    7.0    24.0  16.033333   6.933333    1.0            894        15.60   \n",
       "4    7.0    24.0  21.016667   6.516667    1.0            570        15.86   \n",
       "\n",
       "   Weekday_or_Weekend  EndCharge  ChargingDuration  \n",
       "0                 1.0  21.083333             155.0  \n",
       "1                 1.0   1.483333             201.0  \n",
       "2                 1.0   1.133333             147.0  \n",
       "3                 0.0  19.666667             157.0  \n",
       "4                 1.0   0.833333             168.0  "
      ]
     },
     "execution_count": 364,
     "metadata": {},
     "output_type": "execute_result"
    }
   ],
   "source": [
    "df.head()"
   ]
  },
  {
   "cell_type": "markdown",
   "id": "d87b530d",
   "metadata": {},
   "source": [
    "Data Scaling "
   ]
  },
  {
   "cell_type": "code",
   "execution_count": 365,
   "id": "2ec3e7d8",
   "metadata": {},
   "outputs": [
    {
     "data": {
      "text/html": [
       "<div>\n",
       "<style scoped>\n",
       "    .dataframe tbody tr th:only-of-type {\n",
       "        vertical-align: middle;\n",
       "    }\n",
       "\n",
       "    .dataframe tbody tr th {\n",
       "        vertical-align: top;\n",
       "    }\n",
       "\n",
       "    .dataframe thead th {\n",
       "        text-align: right;\n",
       "    }\n",
       "</style>\n",
       "<table border=\"1\" class=\"dataframe\">\n",
       "  <thead>\n",
       "    <tr style=\"text-align: right;\">\n",
       "      <th></th>\n",
       "      <th>CarKW</th>\n",
       "      <th>CarKWh</th>\n",
       "      <th>StartTime</th>\n",
       "      <th>StopTime</th>\n",
       "      <th>Trial</th>\n",
       "      <th>PluggedInTime</th>\n",
       "      <th>ConsumedkWh</th>\n",
       "      <th>Weekday_or_Weekend</th>\n",
       "      <th>EndCharge</th>\n",
       "      <th>ChargingDuration</th>\n",
       "    </tr>\n",
       "  </thead>\n",
       "  <tbody>\n",
       "    <tr>\n",
       "      <th>0</th>\n",
       "      <td>7.0</td>\n",
       "      <td>24.0</td>\n",
       "      <td>17.483333</td>\n",
       "      <td>20.150000</td>\n",
       "      <td>1.0</td>\n",
       "      <td>160</td>\n",
       "      <td>14.41</td>\n",
       "      <td>1.0</td>\n",
       "      <td>21.083333</td>\n",
       "      <td>155.0</td>\n",
       "    </tr>\n",
       "    <tr>\n",
       "      <th>1</th>\n",
       "      <td>7.0</td>\n",
       "      <td>24.0</td>\n",
       "      <td>21.116667</td>\n",
       "      <td>7.100000</td>\n",
       "      <td>1.0</td>\n",
       "      <td>599</td>\n",
       "      <td>20.97</td>\n",
       "      <td>1.0</td>\n",
       "      <td>1.483333</td>\n",
       "      <td>201.0</td>\n",
       "    </tr>\n",
       "    <tr>\n",
       "      <th>2</th>\n",
       "      <td>7.0</td>\n",
       "      <td>24.0</td>\n",
       "      <td>21.666667</td>\n",
       "      <td>6.633333</td>\n",
       "      <td>1.0</td>\n",
       "      <td>538</td>\n",
       "      <td>13.99</td>\n",
       "      <td>1.0</td>\n",
       "      <td>1.133333</td>\n",
       "      <td>147.0</td>\n",
       "    </tr>\n",
       "    <tr>\n",
       "      <th>3</th>\n",
       "      <td>7.0</td>\n",
       "      <td>24.0</td>\n",
       "      <td>16.033333</td>\n",
       "      <td>6.933333</td>\n",
       "      <td>1.0</td>\n",
       "      <td>894</td>\n",
       "      <td>15.60</td>\n",
       "      <td>0.0</td>\n",
       "      <td>19.666667</td>\n",
       "      <td>157.0</td>\n",
       "    </tr>\n",
       "    <tr>\n",
       "      <th>4</th>\n",
       "      <td>7.0</td>\n",
       "      <td>24.0</td>\n",
       "      <td>21.016667</td>\n",
       "      <td>6.516667</td>\n",
       "      <td>1.0</td>\n",
       "      <td>570</td>\n",
       "      <td>15.86</td>\n",
       "      <td>1.0</td>\n",
       "      <td>0.833333</td>\n",
       "      <td>168.0</td>\n",
       "    </tr>\n",
       "    <tr>\n",
       "      <th>...</th>\n",
       "      <td>...</td>\n",
       "      <td>...</td>\n",
       "      <td>...</td>\n",
       "      <td>...</td>\n",
       "      <td>...</td>\n",
       "      <td>...</td>\n",
       "      <td>...</td>\n",
       "      <td>...</td>\n",
       "      <td>...</td>\n",
       "      <td>...</td>\n",
       "    </tr>\n",
       "    <tr>\n",
       "      <th>35739</th>\n",
       "      <td>3.6</td>\n",
       "      <td>7.6</td>\n",
       "      <td>21.416667</td>\n",
       "      <td>7.866667</td>\n",
       "      <td>2.0</td>\n",
       "      <td>627</td>\n",
       "      <td>6.97</td>\n",
       "      <td>1.0</td>\n",
       "      <td>23.100000</td>\n",
       "      <td>100.0</td>\n",
       "    </tr>\n",
       "    <tr>\n",
       "      <th>35740</th>\n",
       "      <td>3.6</td>\n",
       "      <td>7.6</td>\n",
       "      <td>18.550000</td>\n",
       "      <td>7.916667</td>\n",
       "      <td>2.0</td>\n",
       "      <td>802</td>\n",
       "      <td>7.39</td>\n",
       "      <td>1.0</td>\n",
       "      <td>20.366667</td>\n",
       "      <td>108.0</td>\n",
       "    </tr>\n",
       "    <tr>\n",
       "      <th>35741</th>\n",
       "      <td>3.6</td>\n",
       "      <td>7.6</td>\n",
       "      <td>0.716667</td>\n",
       "      <td>19.033333</td>\n",
       "      <td>2.0</td>\n",
       "      <td>1099</td>\n",
       "      <td>7.61</td>\n",
       "      <td>0.0</td>\n",
       "      <td>2.516667</td>\n",
       "      <td>107.0</td>\n",
       "    </tr>\n",
       "    <tr>\n",
       "      <th>35742</th>\n",
       "      <td>3.6</td>\n",
       "      <td>7.6</td>\n",
       "      <td>21.950000</td>\n",
       "      <td>7.550000</td>\n",
       "      <td>2.0</td>\n",
       "      <td>2016</td>\n",
       "      <td>7.43</td>\n",
       "      <td>0.0</td>\n",
       "      <td>23.633333</td>\n",
       "      <td>100.0</td>\n",
       "    </tr>\n",
       "    <tr>\n",
       "      <th>35743</th>\n",
       "      <td>3.6</td>\n",
       "      <td>7.6</td>\n",
       "      <td>18.933333</td>\n",
       "      <td>7.900000</td>\n",
       "      <td>2.0</td>\n",
       "      <td>778</td>\n",
       "      <td>7.55</td>\n",
       "      <td>1.0</td>\n",
       "      <td>20.750000</td>\n",
       "      <td>108.0</td>\n",
       "    </tr>\n",
       "  </tbody>\n",
       "</table>\n",
       "<p>35744 rows × 10 columns</p>\n",
       "</div>"
      ],
      "text/plain": [
       "       CarKW  CarKWh  StartTime   StopTime  Trial  PluggedInTime  ConsumedkWh  \\\n",
       "0        7.0    24.0  17.483333  20.150000    1.0            160        14.41   \n",
       "1        7.0    24.0  21.116667   7.100000    1.0            599        20.97   \n",
       "2        7.0    24.0  21.666667   6.633333    1.0            538        13.99   \n",
       "3        7.0    24.0  16.033333   6.933333    1.0            894        15.60   \n",
       "4        7.0    24.0  21.016667   6.516667    1.0            570        15.86   \n",
       "...      ...     ...        ...        ...    ...            ...          ...   \n",
       "35739    3.6     7.6  21.416667   7.866667    2.0            627         6.97   \n",
       "35740    3.6     7.6  18.550000   7.916667    2.0            802         7.39   \n",
       "35741    3.6     7.6   0.716667  19.033333    2.0           1099         7.61   \n",
       "35742    3.6     7.6  21.950000   7.550000    2.0           2016         7.43   \n",
       "35743    3.6     7.6  18.933333   7.900000    2.0            778         7.55   \n",
       "\n",
       "       Weekday_or_Weekend  EndCharge  ChargingDuration  \n",
       "0                     1.0  21.083333             155.0  \n",
       "1                     1.0   1.483333             201.0  \n",
       "2                     1.0   1.133333             147.0  \n",
       "3                     0.0  19.666667             157.0  \n",
       "4                     1.0   0.833333             168.0  \n",
       "...                   ...        ...               ...  \n",
       "35739                 1.0  23.100000             100.0  \n",
       "35740                 1.0  20.366667             108.0  \n",
       "35741                 0.0   2.516667             107.0  \n",
       "35742                 0.0  23.633333             100.0  \n",
       "35743                 1.0  20.750000             108.0  \n",
       "\n",
       "[35744 rows x 10 columns]"
      ]
     },
     "execution_count": 365,
     "metadata": {},
     "output_type": "execute_result"
    }
   ],
   "source": [
    "df"
   ]
  },
  {
   "cell_type": "code",
   "execution_count": 366,
   "id": "b22dba46",
   "metadata": {},
   "outputs": [],
   "source": [
    "min_max_scaler = MinMaxScaler()\n",
    "\n",
    "df_escaled = min_max_scaler.fit_transform(df)"
   ]
  },
  {
   "cell_type": "markdown",
   "id": "b684420c",
   "metadata": {},
   "source": [
    "Plot da Variável StartTime"
   ]
  },
  {
   "cell_type": "code",
   "execution_count": 367,
   "id": "2bdb882a",
   "metadata": {},
   "outputs": [
    {
     "data": {
      "text/plain": [
       "Text(0, 0.5, 'Densidade de Probabilidade')"
      ]
     },
     "execution_count": 367,
     "metadata": {},
     "output_type": "execute_result"
    },
    {
     "data": {
      "image/png": "[encoded data removed]",
      "text/plain": [
       "<Figure size 432x288 with 1 Axes>"
      ]
     },
     "metadata": {},
     "output_type": "display_data"
    }
   ],
   "source": [
    "plt.Figure()\n",
    "plt.hist(StartTime2float, density = True, bins = 100)\n",
    "plt.xlabel('tempo (horas)')\n",
    "plt.title('Start Time')\n",
    "plt.ylabel('Densidade de Probabilidade')"
   ]
  },
  {
   "cell_type": "markdown",
   "id": "1e0dc739",
   "metadata": {},
   "source": [
    "Plot da Variável StopTime"
   ]
  },
  {
   "cell_type": "code",
   "execution_count": 368,
   "id": "875f8c91",
   "metadata": {},
   "outputs": [
    {
     "data": {
      "text/plain": [
       "Text(0.5, 1.0, 'Stop Time')"
      ]
     },
     "execution_count": 368,
     "metadata": {},
     "output_type": "execute_result"
    },
    {
     "data": {
      "image/png": "[encoded data removed]",
      "text/plain": [
       "<Figure size 432x288 with 1 Axes>"
      ]
     },
     "metadata": {},
     "output_type": "display_data"
    }
   ],
   "source": [
    "plt.Figure()\n",
    "plt.hist(StopTime2float, density = True, bins = 100)\n",
    "plt.xlabel('tempo (horas)')\n",
    "plt.ylabel('Densidade de Probabilidade')\n",
    "plt.title('Stop Time')\n"
   ]
  },
  {
   "cell_type": "code",
   "execution_count": 369,
   "id": "d74d3449",
   "metadata": {},
   "outputs": [
    {
     "data": {
      "text/plain": [
       "{'whiskers': [<matplotlib.lines.Line2D at 0x2b46b320460>,\n",
       "  <matplotlib.lines.Line2D at 0x2b46b320850>,\n",
       "  <matplotlib.lines.Line2D at 0x2b46ab6e940>,\n",
       "  <matplotlib.lines.Line2D at 0x2b46ab6ed60>,\n",
       "  <matplotlib.lines.Line2D at 0x2b46be654c0>,\n",
       "  <matplotlib.lines.Line2D at 0x2b46be658e0>,\n",
       "  <matplotlib.lines.Line2D at 0x2b46aade1c0>,\n",
       "  <matplotlib.lines.Line2D at 0x2b46aade6a0>,\n",
       "  <matplotlib.lines.Line2D at 0x2b46aa68100>,\n",
       "  <matplotlib.lines.Line2D at 0x2b46aa685e0>,\n",
       "  <matplotlib.lines.Line2D at 0x2b46a916190>,\n",
       "  <matplotlib.lines.Line2D at 0x2b46a9165b0>,\n",
       "  <matplotlib.lines.Line2D at 0x2b46afa0fd0>,\n",
       "  <matplotlib.lines.Line2D at 0x2b471c143a0>,\n",
       "  <matplotlib.lines.Line2D at 0x2b46b34bcd0>,\n",
       "  <matplotlib.lines.Line2D at 0x2b4691960a0>,\n",
       "  <matplotlib.lines.Line2D at 0x2b471b3ba00>,\n",
       "  <matplotlib.lines.Line2D at 0x2b471b3bdf0>,\n",
       "  <matplotlib.lines.Line2D at 0x2b46b2a7730>,\n",
       "  <matplotlib.lines.Line2D at 0x2b46b2a7c10>],\n",
       " 'caps': [<matplotlib.lines.Line2D at 0x2b46b320c70>,\n",
       "  <matplotlib.lines.Line2D at 0x2b46a85ccd0>,\n",
       "  <matplotlib.lines.Line2D at 0x2b46b366160>,\n",
       "  <matplotlib.lines.Line2D at 0x2b46b366550>,\n",
       "  <matplotlib.lines.Line2D at 0x2b46be65ca0>,\n",
       "  <matplotlib.lines.Line2D at 0x2b46b348040>,\n",
       "  <matplotlib.lines.Line2D at 0x2b46aadeb20>,\n",
       "  <matplotlib.lines.Line2D at 0x2b46aadefa0>,\n",
       "  <matplotlib.lines.Line2D at 0x2b46aa68a90>,\n",
       "  <matplotlib.lines.Line2D at 0x2b46aa68370>,\n",
       "  <matplotlib.lines.Line2D at 0x2b46a9169d0>,\n",
       "  <matplotlib.lines.Line2D at 0x2b46a916e50>,\n",
       "  <matplotlib.lines.Line2D at 0x2b471c14790>,\n",
       "  <matplotlib.lines.Line2D at 0x2b471c14bb0>,\n",
       "  <matplotlib.lines.Line2D at 0x2b4691964f0>,\n",
       "  <matplotlib.lines.Line2D at 0x2b4691968e0>,\n",
       "  <matplotlib.lines.Line2D at 0x2b471b081c0>,\n",
       "  <matplotlib.lines.Line2D at 0x2b471b08640>,\n",
       "  <matplotlib.lines.Line2D at 0x2b469dff0a0>,\n",
       "  <matplotlib.lines.Line2D at 0x2b469dff550>],\n",
       " 'boxes': [<matplotlib.lines.Line2D at 0x2b469e55610>,\n",
       "  <matplotlib.lines.Line2D at 0x2b46ab6e5b0>,\n",
       "  <matplotlib.lines.Line2D at 0x2b46be65100>,\n",
       "  <matplotlib.lines.Line2D at 0x2b46b348ca0>,\n",
       "  <matplotlib.lines.Line2D at 0x2b46b8a5d30>,\n",
       "  <matplotlib.lines.Line2D at 0x2b46b2d0d90>,\n",
       "  <matplotlib.lines.Line2D at 0x2b46afa0a90>,\n",
       "  <matplotlib.lines.Line2D at 0x2b46b34b8b0>,\n",
       "  <matplotlib.lines.Line2D at 0x2b471b3b610>,\n",
       "  <matplotlib.lines.Line2D at 0x2b46b2a7280>],\n",
       " 'medians': [<matplotlib.lines.Line2D at 0x2b46a85cc40>,\n",
       "  <matplotlib.lines.Line2D at 0x2b46b366910>,\n",
       "  <matplotlib.lines.Line2D at 0x2b46b348490>,\n",
       "  <matplotlib.lines.Line2D at 0x2b46b8a54c0>,\n",
       "  <matplotlib.lines.Line2D at 0x2b46b2d0400>,\n",
       "  <matplotlib.lines.Line2D at 0x2b46afa0250>,\n",
       "  <matplotlib.lines.Line2D at 0x2b471c14f70>,\n",
       "  <matplotlib.lines.Line2D at 0x2b469196ca0>,\n",
       "  <matplotlib.lines.Line2D at 0x2b471b08a90>,\n",
       "  <matplotlib.lines.Line2D at 0x2b469dffa60>],\n",
       " 'fliers': [<matplotlib.lines.Line2D at 0x2b46ab6e1c0>,\n",
       "  <matplotlib.lines.Line2D at 0x2b46b366cd0>,\n",
       "  <matplotlib.lines.Line2D at 0x2b46b348850>,\n",
       "  <matplotlib.lines.Line2D at 0x2b46b8a5910>,\n",
       "  <matplotlib.lines.Line2D at 0x2b46b2d08e0>,\n",
       "  <matplotlib.lines.Line2D at 0x2b46afa06a0>,\n",
       "  <matplotlib.lines.Line2D at 0x2b46b34b3d0>,\n",
       "  <matplotlib.lines.Line2D at 0x2b471b3b130>,\n",
       "  <matplotlib.lines.Line2D at 0x2b471b08e50>,\n",
       "  <matplotlib.lines.Line2D at 0x2b469dffeb0>],\n",
       " 'means': []}"
      ]
     },
     "execution_count": 369,
     "metadata": {},
     "output_type": "execute_result"
    },
    {
     "data": {
      "image/png": "[encoded data removed]",
      "text/plain": [
       "<Figure size 432x288 with 1 Axes>"
      ]
     },
     "metadata": {},
     "output_type": "display_data"
    }
   ],
   "source": [
    "red_diamond = dict(markerfacecolor='r', marker='D')\n",
    "fig1, ax1 = plt.subplots()\n",
    "ax1.set_title('Basic Plot')\n",
    "ax1.boxplot(df_escaled, flierprops=red_diamond)"
   ]
  },
  {
   "cell_type": "code",
   "execution_count": 370,
   "id": "f8a65540",
   "metadata": {},
   "outputs": [
    {
     "data": {
      "text/plain": [
       "array([[1.        , 0.18976546, 0.72897846, ..., 1.        , 0.8790827 ,\n",
       "        0.01560906],\n",
       "       [1.        , 0.18976546, 0.88047255, ..., 1.        , 0.06184851,\n",
       "        0.02030198],\n",
       "       [1.        , 0.18976546, 0.90340514, ..., 1.        , 0.04725504,\n",
       "        0.0147929 ],\n",
       "       ...,\n",
       "       [0.        , 0.01492537, 0.02988186, ..., 0.        , 0.10493398,\n",
       "        0.0107121 ],\n",
       "       [0.        , 0.01492537, 0.9152189 , ..., 0.        , 0.98540653,\n",
       "        0.00999796],\n",
       "       [0.        , 0.01492537, 0.78943711, ..., 1.        , 0.86518416,\n",
       "        0.01081412]])"
      ]
     },
     "execution_count": 370,
     "metadata": {},
     "output_type": "execute_result"
    }
   ],
   "source": [
    "df_escaled"
   ]
  },
  {
   "cell_type": "code",
   "execution_count": null,
   "id": "61fdacfa",
   "metadata": {},
   "outputs": [],
   "source": []
  }
 ],
 "metadata": {
  "kernelspec": {
   "display_name": "Python 3.9.7 ('base')",
   "language": "python",
   "name": "python3"
  },
  "language_info": {
   "codemirror_mode": {
    "name": "ipython",
    "version": 3
   },
   "file_extension": ".py",
   "mimetype": "text/x-python",
   "name": "python",
   "nbconvert_exporter": "python",
   "pygments_lexer": "ipython3",
   "version": "3.9.7"
  },
  "vscode": {
   "interpreter": {
    "hash": "e8755eff31258cf3f68aa399e6f759d79082959dfad6f58a9830d0e0b06355a5"
   }
  }
 },
 "nbformat": 4,
 "nbformat_minor": 5
}
